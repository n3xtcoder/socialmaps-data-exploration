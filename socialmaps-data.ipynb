{
 "cells": [
  {
   "cell_type": "code",
   "execution_count": null,
   "metadata": {},
   "outputs": [],
   "source": [
    "import json\n",
    "\n",
    "def load_json(file_name):\n",
    "    try:\n",
    "        with open(file_name, 'r', encoding='utf-8') as file:\n",
    "            data = json.load(file)\n",
    "            print(\"Data loaded successfully from\", file_name)\n",
    "            return data\n",
    "    except FileNotFoundError:\n",
    "        print(\"Error: The file does not exist.\")\n",
    "        return None\n",
    "    except json.JSONDecodeError:\n",
    "        print(\"Error: The file is not a valid JSON.\")\n",
    "        return None"
   ]
  },
  {
   "cell_type": "code",
   "execution_count": null,
   "metadata": {},
   "outputs": [],
   "source": [
    "data = load_json(\"./socialmaps-items.json\")\n",
    "items = data[\"items\"]\n",
    "print(json.dumps(items, indent=4))"
   ]
  },
  {
   "cell_type": "code",
   "execution_count": 25,
   "metadata": {},
   "outputs": [
    {
     "name": "stdout",
     "output_type": "stream",
     "text": [
      "{'laz', 'o_ri_wergogmh', 'o_ri_psyinimo', 'o_ri_kiegmb', 'o_ri_conjugbi', 'o_ri_diebrcke_2', 'o_ri_jentorst', 'o_ri_beropepb', 'o_ri_kinbmb', 'o_ri_inssanev', 'o_ri_lidisdim', 'o_ri_flamingo', 'queer', 'o_ri_gesfgb', 'o_ri_intfra', 'o_ri_berverin', 'sports', 'self_help', 'o_ri_gfajev', 'o_ri_iktstev', 'o_ri_vielfalt', 'o_ri_eltkws', 'o_ri_humvbb', 'o_ri_schvor', 'o_ri_hirhaune', 'wheelchair', 'o_ri_zukhbbh', 'o_ri_demgwib', 'o_ri_vakevki', 'o_ri_inggmh', 'bathroom_accessible', 'o_ri_givsbb', 'o_ri_haucit', 'o_ri_kreffems', 'o_ri_bjrschst', 'mitte', 'o_ri_ordspihs', 'dari', 'o_ri_stiunibe', 'o_ri_frezeiha', 'o_ri_brgneu', 'o_ri_ramzam', 'turkish', 'o_ri_gemhas', 'o_ri_kulmarha', 'o_ri_ambapgg', 'assisted_living', 'o_ri_jugkieju', 'o_ri_arbfrdpf', 'o_ri_hausch', 'contact_point_ce', 'o_ri_ausblick', 'hungarian', 'o_ri_urbkit', 'o_ri_schutzhl', 'o_ri_youwjew', 'mental_disability', 'o_ri_familiee', 'kindergarden', 'o_ri_antdrove', 'o_ri_wallin', 'o_ri_wuhpsyze', 'o_ri_legzsg', 'o_ri_anlbmh', 'o_ri_coccbn', 'o_ri_stastemi', 'o_ri_zuggmh', 'o_ri_allhanse', 'swahili', 'o_ri_gesarbbi', 'o_ri_geffggbh', 'o_ri_zukgem', 'o_ri_walwes', 'o_ri_sozvbg', 'o_ri_treberpr', 'o_ri_licwerge', 'aramaic', 'housing', 'spanish', 'romani', 'o_ri_sozberbr_2', 'o_ri_kinber', 'o_ri_gibev', 'o_ri_soztibbh', 'o_ri_langetaf', 'o_ri_arbfra', 'o_ri_nadeshda', 'o_ri_arbslsm', 'o_ri_lebmvwpk', 'o_ri_independ', 'o_ri_yaarev', 'o_ri_paukra', 'people_in_mental_distress', 'o_ri_camdei', 'o_ri_mihigmh', 'o_ri_mbehilhe', 'o_ri_vilcvih', 'o_ri_gesberbr', 'addiction', 'o_ri_forkre', 'kurdish', 'o_ri_mavlebin', 'o_ri_norwer', 'o_ri_eltkin', 'o_ri_humactde', 'o_ri_walelf', 'o_ri_frewalkr', 'o_ri_bligembe', 'o_ri_hilfefrj', 'o_ri_traintqu', 'o_ri_eltbekob', 'o_ri_drozenbe', 'o_ri_betwuh', 'o_ri_lebenswe', 'punjabi', 'o_ri_versalb', 'o_ri_gesfbsic', 'o_ri_berzslbm', 'o_ri_frbelakg', 'o_ri_rumber', 'o_ri_gladtev', 'o_ri_kptbggbh', 'o_ri_orohazda', 'o_ri_souagnd', 'o_ri_klunache', 'o_ri_silberne', 'o_ri_mosserin', 'young', 'o_ri_selkoev', 'hebrew', 'o_ri_neuhilkr', 'o_ri_frezhwg', 'o_ri_comgit', 'o_ri_aktflc', 'o_ri_lanakb', 'treptow_koepenik', 'o_ri_tksev', 'o_ri_zukunftb', 'o_ri_lebvdsl', 'o_ri_sonclu', 'o_ri_viggmh', 'o_ri_konbfm', 'o_ri_facsucbe', 'o_ri_veramv', 'o_ri_muklbb', 'o_ri_anoalkbe', 'norwegian', 'o_ri_bliwgb', 'o_ri_intber', 'o_ri_steein', 'o_ri_miwggmhm', 'o_ri_arbneede', 'o_ri_polsoz', 'armenian', 'o_ri_zeirggpr', 'tajiki', 'o_ri_lessdlbb', 'o_ri_gesintzu', 'o_ri_sposkg', 'o_ri_havkidki', 'o_ri_sinev', 'group', 'o_ri_freiraum', 'refugee_background', 'o_ri_brbhaggm', 'o_ri_gemchr', 'o_ri_nenaev', 'o_ri_nesplu', 'o_ri_annramst', 'o_ri_stuber', 'o_ri_spegbbib', 'o_ri_lankmmb', 'houseless', 'o_ri_artkiggm', 'o_ri_jugkie', 'o_ri_verjugbe', 'o_ri_ortkin', 'o_ri_kommhelp', 'korean', 'lithuanian', 'women', 'o_ri_basbet', 'o_ri_intpdage', 'o_ri_nachbars', 'o_ri_berstr', 'o_ri_prowoh', 'o_ri_verimlss', 'o_ri_deurlb', 'o_ri_lesbkkbi', 'o_ri_cludia', 'lobby', 'health', 'o_ri_lanksbbl', 'o_ri_walmcs', 'o_ri_zirmsza', 'o_ri_steinsta', 'youth_facility', 'o_ri_berschal', 'o_ri_gesvpv', 'o_ri_sozjug', 'o_ri_ewaevfr', 'o_ri_bunperbu', 'o_ri_etehadev', 'o_ri_ifgigg', 'arabic', 'emergency_shelter', 'o_ri_stitri', 'o_ri_chrpflha', 'mental_disability_2', 'o_ri_lanber_2', 'o_ri_gemvggbs', 'o_ri_inakinde', 'o_ri_deuflb', 'o_ri_offilf', 'o_ri_babelev', 'o_ri_weiint', 'o_ri_familien', 'o_ri_zenbewku', 'o_ri_deusjek', 'o_ri_leggmh_2', 'o_ri_strohhal', 'o_ri_deugfss', 'o_ri_pinggipk', 'o_ri_gsscgmh', 'special_housing', 'o_ri_werbhggb', 'o_ri_koruev', 'o_ri_worcambe', 'sight_impaired', 'o_ri_fixpunkt', 'o_ri_unisegg', 'o_ri_deuaus', 'o_ri_autdvfma', 'o_ri_strassen', 'o_ri_paggmh', 'o_ri_gesaah', 'o_ri_aktcoura', 'o_ri_teenexev', 'o_ri_bipmdsbb', 'o_ri_phinovee', 'o_ri_bifbfy', 'o_ri_horgemha', 'dutch', 'o_ri_vereezdr', 'o_ri_hankulba', 'o_ri_stakpe', 'o_ri_frdseege', 'o_ri_betneu', 'o_ri_romphe', 'o_ri_deugesde', 'o_ri_evinev', 'o_ri_flofpp', 'o_ri_selstane', 'o_ri_scbtlggm', 'o_ri_damoev', 'french', 'german', 'o_ri_kiezanke', 'nepali', 'marzahn_hellersdorf', 'o_ri_mittendr', 'meeting_center', 'o_ri_stafam', 'o_ri_lebwggij', 'o_ri_knevbnl', 'self_help_contact_point', 'o_ri_casggijs', 'o_ri_nadivane', 'o_ri_deulrglb', 'o_ri_jugkulbe', 'o_ri_eventusb', 'o_ri_albatros', 'o_ri_hoschr', 'o_ri_legzbdbl', 'o_ri_offint', 'o_ri_geskrikr', 'o_ri_brgkhggb', 'uzbek', 'o_ri_lebwerge', 'o_ri_sozhrgbe', 'o_ri_famkri', 'o_ri_lebggbkj', 'o_ri_frddursp', 'o_ri_aufneu', 'spandau', 'o_ri_kineinve', 'o_ri_gemgabw', 'o_ri_onkber', 'o_ri_frdkur', 'o_ri_intavfeg', 'o_ri_leslebfa', 'o_ri_inmgem', 'o_ri_jolila', 'italian', 'o_ri_buldykit', 'chechen', 'o_ri_kinjvb', 'ukranian', 'o_ri_lanstb', 'o_ri_pacwggli', 'o_ri_tauvfsk', 'o_ri_tabtlggm', 'o_ri_schber', 'english', 'o_ri_komafee', 'o_ri_freiehil', 'o_ri_begkin', 'o_ri_fusbil', 'o_ri_basgss', 'o_ri_berlhl', 'o_ri_hosber', 'o_ri_stjovita', 'o_ri_kinjugbe', 'physical_disability', 'o_ri_verspbs', 'o_ri_arboribi', 'o_ri_selwohal', 'o_ri_stikjsh', 'o_ri_dafnraev', 'o_ri_freintdi', 'o_ri_sozber_2', 'daycare_children', 'o_ri_impulsev', 'o_ri_sozkpe', 'o_ri_psyvertr', 'o_ri_fregef', 'o_ri_nacsupli', 'o_ri_veritab', 'o_ri_faggmh', 'o_ri_berektm', 'friedrichshain_kreuzberg', 'o_ri_tanberbr', 'o_ri_eltwalsc', 'o_ri_spielwag', 'o_ri_tervit', 'amharic', 'o_ri_wildwass', 'o_ri_zenfgbb', 'o_ri_intakt_2', 'russian', 'o_ri_bergsp', 'o_ri_walros', 'o_ri_neuleb', 'o_ri_viablggm', 'o_ri_weggfbuk', 'o_ri_carbksd', 'o_ri_menpfe', 'o_ri_mitmensc', 'o_ri_beraidhi', 'o_ri_betgem', 'o_ri_sterntal', 'o_ri_polnisch', 'o_ri_outggkj', 'o_ri_intisbfm', 'o_ri_inibef', 'o_ri_mdcmar', 'o_ri_migber', 'o_ri_donmdc', 'o_ri_opfber', 'o_ri_vterzent', 'o_ri_rehste', 'o_ri_selhilru', 'o_ri_aufstieg', 'o_ri_eurbil', 'o_ri_ambsozer', 'o_ri_kiezqgmh', 'o_ri_pesfhsfr', 'o_ri_gesgffb', 'offender_services', 'o_ri_ambulant', 'farsi', 'o_ri_nesvbbsf', 'o_ri_zenkin', 'o_ri_gebfam', 'education', 'o_ri_sttfrege', 'o_ri_mehgfgt', 'o_ri_rckvkk', 'o_ri_sucsob', 'o_ri_kindersc', 'o_ri_akzdvggi', 'o_ri_nacsch', 'o_ri_pflgem', 'o_ri_kompaxxe', 'o_ri_lebbil', 'o_ri_nacneu', 'by_phone', 'o_ri_sehsev', 'o_ri_dispev', 'professionals', 'o_ri_jugbog', 'o_ri_frauenkr', 'o_ri_albusev', 'o_ri_zeizeubr', 'o_ri_quarteer', 'o_ri_wohsttge', 'o_ri_verambdr', 'o_ri_eingmb', 'o_ri_stisla', 'o_ri_lanebb', 'albanian', 'o_ri_walkinze', 'cultural_center', 'migration_background', 'o_ri_sbhggbh', 'o_ri_gestqbh', 'o_ri_schpfege', 'o_ri_vfjwegmh', 'o_ri_pfeaka', 'o_ri_stigimbs', 'o_ri_arbpan', 'o_ri_schverbe', 'o_ri_sozhil', 'o_ri_bergem_2', 'o_ri_lebber', 'o_ri_deubpn', 'o_ri_heiambbe', 'o_ri_berthi', 'families', 'o_ri_wandaev', 'multigenerational_house', 'o_ri_silkrifr', 'o_ri_trgsdbb', 'greek', 'o_ri_kinderer', 'care', 'o_ri_wibingmh', 'o_ri_betwoh', 'o_ri_reistrom', 'o_ri_intfmb', 'o_ri_umsgle', 'polish', 'o_ri_wohhul', 'o_ri_faboslst', 'o_ri_kinlanbe', 'o_ri_staskjsz', 'o_ri_strber', 'recreation', 'o_ri_kurzen', 'o_ri_berkre', 'o_ri_facintle', 'o_ri_quabss', 'o_ri_kinkie', 'o_ri_nacurb', 'japanese', 'o_ri_psybbamt', 'o_ri_solwodib', 'o_ri_drogenli', 'o_ri_kulstr', 'o_ri_unisdg', 'o_ri_emasssvg', 'o_ri_gesfmbl', 'o_ri_stipfe', 'montenegrin', 'o_ri_babyloni', 'o_ri_nacgemko', 'o_ri_bliber', 'o_ri_gemcurst', 'o_ri_famkin', 'o_ri_motcrau', 'o_ri_freampfp', 'o_ri_verfrd', 'o_ri_vtekbb', 'urdu', 'thai', 'pankow', 'o_ri_rotenase', 'o_ri_deujlbb', 'o_ri_arbbilwo', 'o_ri_lebkit', 'o_ri_derstegg', 'o_ri_mvzpiggm', 'o_ri_jamsimst', 'counseling_center', 'o_ri_trkfrabe', 'o_ri_comesev', 'o_ri_domsozdi', 'o_ri_carambpf', 'o_ri_angpemb', 'o_ri_lebsch', 'o_ri_unisgg', 'o_ri_demkomli', 'o_ri_bilberbr', 'hospice', 'o_ri_trazwb', 'o_ri_eliibbfm', 'o_ri_kindiath', 'o_ri_formatwe', 'o_ri_higgmh', 'o_ri_deuiks', 'o_ri_gutdglbb', 'neighborhood', 'o_ri_sozpro', 'in_person', 'o_ri_alterfle', 'o_ri_deuilbb', 'o_ri_conbersc', 'o_ri_licbdg', 'o_ri_bilasl', 'o_ri_cosdstwm', 'o_ri_wasserto', 'o_ri_momentma', 'o_ri_kubisggm', 'o_ri_kulturen', 'o_ri_mosber', 'o_ri_perzlw', 'o_ri_pflgggp', 'o_ri_sozialwe', 'o_ri_stileb', 'o_ri_pflgsd', 'o_ri_neuwohki', 'o_ri_stigutta', 'o_ri_sdstadte', 'o_ri_bersoz', 'o_ri_hilkin', 'o_ri_bildungs', 'o_ri_walwil', 'o_ri_serjug', 'o_ri_kurkulhi', 'o_ri_agippdik', 'o_ri_sensch', 'o_ri_mannomet', 'o_ri_ortgrn', 'service', 'o_ri_fraszvhs', 'o_ri_schlabbi', 'o_ri_prvadsb', 'o_ri_waltom', 'nursing_home', 'addicted_persons', 'o_ri_beriggf', 'o_ri_sinfghmb', 'chinese', 'o_ri_hilblm', 'o_ri_kienacin', 'o_ri_freiwbh', 'o_ri_berkik', 'o_ri_intfam', 'o_ri_loaleev', 'o_ri_eltkinma', 'o_ri_camber', 'o_ri_bunaraal', 'o_ri_kashaust', 'o_ri_thohaube', 'o_ri_tanberbr_2', 'o_ri_direev', 'o_ri_selhia', 'o_ri_trakinne', 'o_ri_kullehst', 'o_ri_helziebe', 'charlottenburg_wilmersdorf', 'o_ri_parreich', 'labour', 'o_ri_blikon', 'o_ri_uniadgg', 'o_ri_waldorfk', 'o_ri_kbsev', 'o_ri_lebpbap', 'o_ri_lanber', 'o_ri_horfgg', 'o_ri_forsdk', 'o_ri_kinbauwe', 'volunteer_work', 'o_ri_schberge', 'tigrinya', 'hindu', 'o_ri_verfij', 'o_ri_staste', 'o_ri_sozialde', 'o_ri_casbgfbk', 'o_ri_expesk', 'o_ri_pflkauno', 'o_ri_jugberwl', 'o_ri_reisemau', 'o_ri_kullbsk', 'o_ri_verfawa', 'o_ri_jdittt', 'o_ri_jdikbsbr', 'o_ri_vergsgf', 'o_ri_begorian', 'lichtenberg', 'o_ri_plggmh', 'o_ri_telbks', 'o_ri_berbsw', 'o_ri_gesber', 'o_ri_diefhre', 'o_ri_gemgesso', 'o_ri_stasch', 'azerbaijani', 'o_ri_verspg', 'dependents', 'o_ri_notsab', 'o_ri_senprebe', 'o_ri_arbsblb', 'o_ri_selfkg', 'o_ri_sieeic', 'o_ri_berass', 'o_ri_kombil', 'o_ri_wetekbeg', 'o_ri_spiberbu', 'o_ri_respas', 'o_ri_cardie', 'turkmen', 'suomi', 'o_ri_aufvae', 'arts', 'o_ri_rudssb', 'o_ri_frauenzi', 'o_ri_tember', 'o_ri_iniish', 'o_ri_menmit', 'o_ri_grekulge', 'o_ri_swetev', 'o_ri_alzgbsd', 'senior_citizens', 'o_ri_veralkle', 'o_ri_vollanbe', 'o_ri_wdisti', 'o_ri_conplu', 'o_ri_walgolte', 'victim_support', 'o_ri_mrzev', 'wolof', 'o_ri_lenggbhr', 'o_ri_kfkkietz', 'o_ri_kurggrpk', 'o_ri_gemgfj', 'o_ri_nachbars_2', 'o_ri_helgembe', 'o_ri_aufkitve', 'o_ri_intbbc', 'o_ri_rroinfce', 'o_ri_casnih', 'o_ri_intvibg', 'o_ri_gesabbg', 'neighborhood_house', 'neukoelln', 'o_ri_kiesdgg', 'o_ri_bikeygee', 'o_ri_forsozdi', 'o_ri_frdjugso', 'o_ri_richggls', 'o_ri_walbersd', 'o_ri_juglic', 'o_ri_besintqu', 'ukraine', 'o_ri_stiftung', 'speech_impairment', 'o_ri_stibil', 'o_ri_gemgfk', 'o_ri_arbpir', 'o_ri_fokplu', 'o_ri_jugber', 'o_ri_verhkl', 'o_ri_gemgesfa', 'german_sign_langauge', 'o_ri_berobd', 'o_ri_parsozdi', 'o_ri_mitwoh', 'o_ri_veraktvi', 'reinickendorf', 'macedonian', 'o_ri_soevsodi', 'o_ri_lsupport', 'o_ri_lebwrd', 'deafblind', 'o_ri_ouggmh', 'o_ri_kidzev', 'o_ri_synerget', 'o_ri_plavwpk', 'o_ri_frbelev', 'o_ri_coomen', 'o_ri_pergem', 'o_ri_albsswb', 'o_ri_alzangin', 'o_ri_frauundf', 'senior_citizen_meeting', 'o_ri_procol', 'o_ri_mamienmo', 'o_ri_netberki', 'retirement_home', 'romanian', 'o_ri_bunzir', 'o_ri_lanberbr', 'o_ri_abqueere', 'o_ri_lifeinev', 'o_ri_parabggb', 'o_ri_bersozwo', 'o_ri_bergem', 'o_ri_integral', 'o_ri_camcos', 'educational_center', 'o_ri_wajsti', 'o_ri_gemwohbe', 'o_ri_chrsvlml', 'o_ri_dominoev', 'o_ri_intwes', 'o_ri_arbdroel', 'o_ri_kieschna', 'o_ri_lachundk', 'o_ri_verfve', 'o_ri_matildee', 'o_ri_pfegem', 'o_ri_moarat', 'o_ri_rehintge', 'o_ri_starggis', 'o_ri_sozdie', 'o_ri_coomen_2', 'o_ri_geniuswo', 'o_ri_deuklb', 'o_ri_kinderge', 'o_ri_zoggmh', 'o_ri_frdgem', 'o_ri_klrwerke', 'o_ri_stirehbe', 'o_ri_notber', 'o_ri_julwed', 'o_ri_aktwei', 'o_ri_rabnkn', 'o_ri_gemheeno', 'o_ri_albleb', 'o_ri_trkebb', 'o_ri_senserpa', 'o_ri_verefbw', 'hearing_impaired', 'o_ri_walhvfer', 'o_ri_bogber', 'o_ri_hilgks', 'o_ri_femfgz', 'o_ri_pdlogmh', 'o_ri_blikgb', 'o_ri_menhmb', 'o_ri_tjggmh', 'o_ri_vilhhn', 'o_ri_verbbrra', 'o_ri_famber', 'o_ri_verifb', 'o_ri_advwoh', 'vietnamese', 'disability_background', 'o_ri_kriber', 'o_ri_allbsb', 'o_ri_steser', 'o_ri_auskul', 'o_ri_verbetum', 'o_ri_berfra', 'o_ri_bligem', 'o_ri_famhav', 'o_ri_wamedien', 'o_ri_fabber', 'o_ri_regrei', 'o_ri_walkar', 'o_ri_mittelho', 'steglitz_zehlendorf', 'serbian_croatian', 'o_ri_rckfahfl', 'o_ri_albskb', 'o_ri_sozrbh', 'o_ri_drofipb', 'o_ri_houqse', 'workshop_disabilities', 'o_ri_albggsgd', 'tempelhof_schoeneberg', 'daycare', 'o_ri_hilikb', 'counseling', 'o_ri_gesptg', 'o_ri_johsoz', 'o_ri_netskpb', 'o_ri_vergab', 'location', 'men', 'o_ri_camsch_2', 'o_ri_nacspdg', 'o_ri_brgami', 'o_ri_gmbggjpr', 'o_ri_konbkjms', 'pashto', 'o_ri_frdkrasp', 'o_ri_lebbab', 'o_ri_fixgggsh', 'o_ri_stewoh', 'online', 'o_ri_kulprebe', 'o_ri_aktwbw', 'o_ri_mrkkitsc', 'o_ri_verhum', 'o_ri_juwkit', 'o_ri_sozber', 'o_ri_gripswee', 'o_ri_carheyhe', 'o_ri_pindacti', 'o_ri_verstd', 'district_center', 'o_ri_psybka', 'o_ri_sengem', 'o_ri_nacwan', 'o_ri_dorsvlse', 'o_ri_karameev', 'o_ri_urbgemwo', 'slovene', 'o_ri_corkul', 'o_ri_advwss', 'o_ri_vikweige', 'o_ri_kiinev', 'o_ri_statie', 'o_ri_naccen', 'o_ri_eltbbl', 'o_ri_lebmenbe', 'o_ri_kumahk', 'o_ri_galber', 'o_ri_decpev', 'o_ri_sterfb', 'o_ri_lebtra', 'o_ri_tagtem', 'o_ri_trggmh', 'o_ri_behrsb', 'o_ri_intkrm', 'o_ri_almvzrpk', 'o_ri_diabunbe', 'o_ri_trijgg', 'o_ri_nacselfa', 'o_ri_arbavp', 'o_ri_zuhkie', 'o_ri_jugberbr', 'o_ri_caivcaj', 'o_ri_deumsglb', 'o_ri_unishz', 'o_ri_divjug', 'day_care', 'o_ri_mrksozbi', 'o_ri_bilvwg', 'o_ri_inthetpv', 'o_ri_saljouse', 'o_ri_afrotale', 'o_ri_wohnwerk', 'o_ri_fredemwo', 'o_ri_sidschst', 'o_ri_derkulge', 'o_ri_tanstest', 'interpreting_service', 'o_ri_netsti', 'o_ri_veriarbb', 'o_ri_pindoo', 'o_ri_selgebfa', 'o_ri_verfbt', 'o_ri_sengemge', 'o_ri_heihau', 'o_ri_wuhhpk', 'o_ri_vereinde', 'o_ri_aktjugve', 'family_center', 'o_ri_klahol', 'o_ri_donvbbfs', 'bulgarian', 'o_ri_intabipp', 'o_ri_diebrcke', 'o_ri_zusgab', 'o_ri_pfesggfs', 'o_ri_balanxev', 'o_ri_gesflcge', 'o_ri_frdklo', 'o_ri_brgerhil', 'o_ri_intzrd', 'o_ri_werber', 'o_ri_inggmh_2', 'o_ri_eltksks', 'o_ri_einpau', 'o_ri_leabnv', 'o_ri_intjlb', 'o_ri_medber', 'portuguese', 'o_ri_forpdapr', 'o_ri_palmob', 'o_ri_presozdi', 'o_ri_hocapgb', 'o_ri_jiystime', 'o_ri_boxber', 'o_ri_frdaut', 'o_ri_frdheeno', 'o_ri_psyhpv', 'o_ri_tauvgsg', 'o_ri_zubwoggm'}\n"
     ]
    }
   ],
   "source": [
    "def find_unique_tags(item_list):\n",
    "    key = \"tags\"\n",
    "    unique_values = set()\n",
    "    for item in item_list:\n",
    "        if key in item and isinstance(item[key], list):  # Ensure it's a list\n",
    "            for tag in item[key]:\n",
    "                unique_values.add(tag)\n",
    "    return unique_values\n",
    "\n",
    "unique_tags = find_unique_tags(items)\n",
    "\n",
    "print(unique_tags)\n",
    "\n"
   ]
  },
  {
   "cell_type": "code",
   "execution_count": 26,
   "metadata": {},
   "outputs": [
    {
     "name": "stdout",
     "output_type": "stream",
     "text": [
      "{'recreation', 'kindergarden', 'sports', 'self_help', 'victim_support', 'lobby', 'offender_services', 'health', 'addiction', 'care', 'volunteer_work', 'neighborhood', 'housing', 'arts', 'counseling', 'labour', 'education', 'hospice'}\n"
     ]
    }
   ],
   "source": [
    "def find_unique_primarytopics(item_list):\n",
    "    key = \"primaryTopic\"\n",
    "    unique_values = set()\n",
    "    for item in item_list:\n",
    "        if key in item and isinstance(item[key], str):  # Ensure it's a string\n",
    "            unique_values.add(item[key])\n",
    "    return unique_values\n",
    "\n",
    "unique_primarytopics = find_unique_primarytopics(items)\n",
    "print(unique_primarytopics)\n"
   ]
  },
  {
   "cell_type": "code",
   "execution_count": null,
   "metadata": {},
   "outputs": [],
   "source": []
  }
 ],
 "metadata": {
  "kernelspec": {
   "display_name": "socialmaps",
   "language": "python",
   "name": "python3"
  },
  "language_info": {
   "codemirror_mode": {
    "name": "ipython",
    "version": 3
   },
   "file_extension": ".py",
   "mimetype": "text/x-python",
   "name": "python",
   "nbconvert_exporter": "python",
   "pygments_lexer": "ipython3",
   "version": "3.12.3"
  }
 },
 "nbformat": 4,
 "nbformat_minor": 2
}
